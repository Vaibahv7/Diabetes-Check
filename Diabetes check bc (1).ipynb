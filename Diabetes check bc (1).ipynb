{
 "cells": [
  {
   "cell_type": "code",
   "execution_count": 1,
   "id": "2df3f3e2",
   "metadata": {},
   "outputs": [],
   "source": [
    "import pickle\n",
    "import numpy as np\n",
    "import pandas as pd"
   ]
  },
  {
   "cell_type": "code",
   "execution_count": 2,
   "id": "8fe76913",
   "metadata": {},
   "outputs": [],
   "source": [
    "loaded_model=pickle.load(open('Diabetes.pk1','rb'))"
   ]
  },
  {
   "cell_type": "code",
   "execution_count": 3,
   "id": "eeb2985b",
   "metadata": {},
   "outputs": [],
   "source": [
    "\n",
    "## Glucose\tBloodPressure\tSkinThickness\tInsulin\tBMI\tDiabetesPedigreeFunction\tAge"
   ]
  },
  {
   "cell_type": "code",
   "execution_count": 6,
   "id": "fd633bd5",
   "metadata": {},
   "outputs": [
    {
     "name": "stdout",
     "output_type": "stream",
     "text": [
      "enter Glucose level : 148\n",
      "enter BloodPressure : 72\n",
      "enter SkinThickness : 35\n",
      "enter Insulin level : 30.5\n",
      "enter BMI level33.6\n",
      "enter DiabetesPedigreeFunction : 0.627\n",
      "enter Age :-  50\n"
     ]
    }
   ],
   "source": [
    "Glucose=eval(input(\"enter Glucose level : \"))\n",
    "BloodPressure=eval(input(\"enter BloodPressure : \"))\n",
    "SkinThickness=eval(input(\"enter SkinThickness : \"))\n",
    "Insulin=eval(input(\"enter Insulin level : \"))\n",
    "BMI=eval(input(\"enter BMI level\"))\n",
    "DiabetesPedigreeFunction =eval(input(\"enter DiabetesPedigreeFunction : \"))\n",
    "Age=eval(input(\"enter Age :-  \"))\n",
    "\n",
    "#148\t72\t35\t30.5\t33.6\t0.627\t50"
   ]
  },
  {
   "cell_type": "code",
   "execution_count": 7,
   "id": "dbfabed4",
   "metadata": {},
   "outputs": [],
   "source": [
    "dt=np.array([[Glucose,BloodPressure,SkinThickness,Insulin,BMI,DiabetesPedigreeFunction,Age]])"
   ]
  },
  {
   "cell_type": "code",
   "execution_count": 8,
   "id": "764df5a8",
   "metadata": {},
   "outputs": [
    {
     "name": "stderr",
     "output_type": "stream",
     "text": [
      "C:\\Users\\Admin\\anaconda3\\Lib\\site-packages\\sklearn\\base.py:439: UserWarning: X does not have valid feature names, but LogisticRegression was fitted with feature names\n",
      "  warnings.warn(\n"
     ]
    }
   ],
   "source": [
    "a=loaded_model.predict(dt)[0]   #indexing direct becuase we wanted value not array"
   ]
  },
  {
   "cell_type": "code",
   "execution_count": 9,
   "id": "d2d1268e",
   "metadata": {},
   "outputs": [
    {
     "data": {
      "text/plain": [
       "1"
      ]
     },
     "execution_count": 9,
     "metadata": {},
     "output_type": "execute_result"
    }
   ],
   "source": [
    "a"
   ]
  },
  {
   "cell_type": "code",
   "execution_count": 10,
   "id": "24207a82",
   "metadata": {},
   "outputs": [
    {
     "name": "stdout",
     "output_type": "stream",
     "text": [
      "Diabetes:- Positive\n"
     ]
    }
   ],
   "source": [
    "if a==1 : \n",
    "    print(\"Diabetes:- Positive\") \n",
    "else :\n",
    "        print(\"Diabetes:- Negative\")"
   ]
  },
  {
   "cell_type": "code",
   "execution_count": null,
   "id": "c665f9c0",
   "metadata": {},
   "outputs": [],
   "source": []
  },
  {
   "cell_type": "code",
   "execution_count": null,
   "id": "5056317f",
   "metadata": {},
   "outputs": [],
   "source": []
  }
 ],
 "metadata": {
  "kernelspec": {
   "display_name": "Python 3 (ipykernel)",
   "language": "python",
   "name": "python3"
  },
  "language_info": {
   "codemirror_mode": {
    "name": "ipython",
    "version": 3
   },
   "file_extension": ".py",
   "mimetype": "text/x-python",
   "name": "python",
   "nbconvert_exporter": "python",
   "pygments_lexer": "ipython3",
   "version": "3.11.4"
  }
 },
 "nbformat": 4,
 "nbformat_minor": 5
}
